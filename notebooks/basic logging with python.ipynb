{
 "cells": [
  {
   "cell_type": "markdown",
   "id": "0",
   "metadata": {},
   "source": [
    "# Logging with the python standard library\n",
    "\n",
    "## Intro\n",
    "* The python standard library comes with a [logging package](https://docs.python.org/3/library/logging.html).\n",
    "* This standard allows a way for 3rd party modules to share a common API for logging (more on that later).\n",
    "* Logging is a low-cost and simple way to communicate and record the state of your program."
   ]
  },
  {
   "cell_type": "markdown",
   "id": "1",
   "metadata": {},
   "source": [
    "## Using the basic config\n",
    "* The most common destination for logs is to write to the stdout stream or to a local file.\n",
    "* The logging library provides a function for configuring the top-level *root* logger for use in the main python program."
   ]
  },
  {
   "cell_type": "code",
   "execution_count": 1,
   "id": "2",
   "metadata": {},
   "outputs": [
    {
     "name": "stdout",
     "output_type": "stream",
     "text": [
      "INFO:__main__:Logging to the stdout stream\n",
      "abct\n"
     ]
    }
   ],
   "source": [
    "import logging\n",
    "\n",
    "# Bind the root logger\n",
    "logger = logging.getLogger(__name__)\n",
    "\n",
    "# To set up the root logger to send the logs to a file\n",
    "logging.basicConfig(filename=\"log.txt\", filemode=\"a\", level=logging.INFO) \n",
    "logger.info(\"Logging to a file...\") \n",
    "\n",
    "# To set up the root logger to send the logs to the console\n",
    "import sys\n",
    "logging.basicConfig(stream=sys.stdout, level=logging.INFO, force=True) # force param needed to reconfigure\n",
    "logger.info(\"Logging to the stdout stream\")\n",
    "print(\"abct\")"
   ]
  },
  {
   "cell_type": "markdown",
   "id": "3",
   "metadata": {},
   "source": [
    "## Logging Levels\n",
    "* [Logging levels](https://docs.python.org/3/library/logging.html#logging-levels) have a name and a numeric values to indicate the importance of the logged message.\n",
    "* When the level parameter is set on a logger, the logger will **ignore** all calls to the logger from a lower logging level.\n",
    "* When the level is NOTSET, the logger will defer to the higher level logger.\n",
    "\n",
    "| level | numeric value |\n",
    "| ----| ----|\n",
    "| logging.NOTSET | 0 |\n",
    "| logging.DEBUG | 10 |\n",
    "| logging.INFO | 20 |\n",
    "| logging.WARNING | 30 |\n",
    "| logging.ERROR| 40 |\n",
    "| logging.CRITICAL | 50 |\n",
    "\n",
    "* To log a message of a level, you can either use the log method or the build-in method based on the levelname.\n"
   ]
  },
  {
   "cell_type": "code",
   "execution_count": 2,
   "id": "4",
   "metadata": {},
   "outputs": [
    {
     "name": "stdout",
     "output_type": "stream",
     "text": [
      "ERROR:__main__:logging an error message\n",
      "ERROR:__main__:logging another error message\n"
     ]
    }
   ],
   "source": [
    "logger.log(40, \"logging an error message\")\n",
    "logger.error(\"logging another error message\")"
   ]
  },
  {
   "cell_type": "markdown",
   "id": "5",
   "metadata": {
    "editable": true,
    "slideshow": {
     "slide_type": ""
    },
    "tags": []
   },
   "source": [
    "## Logging namespaces\n",
    "* When instantiating a logger. passing the dunder attribute \\_\\_name\\_\\_ will preserve the program structure in the output call.\n",
    "* In the example below, the first function passes a custom string to the function.\n",
    "    \n",
    "    ```python\n",
    "        logger = logging.getLogger(\"Not using default namespace\")\n",
    "    ```"
   ]
  },
  {
   "cell_type": "code",
   "execution_count": 3,
   "id": "6",
   "metadata": {},
   "outputs": [
    {
     "name": "stdout",
     "output_type": "stream",
     "text": [
      "INFO:Not using default namespace:This entry is created with a logger with a custom name\n",
      "INFO:custom_loggers.logger_namespace:This entry is created with a logger without a custom name\n"
     ]
    }
   ],
   "source": [
    "from custom_loggers import logger_namespace\n",
    "logger_namespace.create_logger_with_name()\n",
    "logger_namespace.create_logger_without_name()\n"
   ]
  },
  {
   "cell_type": "markdown",
   "id": "7",
   "metadata": {},
   "source": [
    "## The structure\n",
    "* The logging structure is made up of a few components: loggers, handlers, filters, and formatters.\n",
    "\n",
    "### Logger\n",
    "* Loggers provide the interface to the application code and create the LogRecord objects consumed by the Handlers.\n",
    "    ```python\n",
    "        logger = logging.getLogger(__name__)\n",
    "        logger.info(\"Log text...\")\n",
    "    ```\n",
    "* Note that once instantiated, each logger is added to the global namespace. Calling a logger with a name will return the same logger globally. On the upside, loggers do not need to be passed between modules. On the downside, carelessly modifying the same logger may introduce unintended consequences."
   ]
  },
  {
   "cell_type": "code",
   "execution_count": 4,
   "id": "8",
   "metadata": {},
   "outputs": [
    {
     "name": "stdout",
     "output_type": "stream",
     "text": [
      "INFO:__main__:is logger1  also logger2? True\n"
     ]
    }
   ],
   "source": [
    "logger1 = logging.getLogger(\"same logger\")\n",
    "logger2 = logging.getLogger(\"same logger\")\n",
    "\n",
    "logger.info(f\"is logger1  also logger2? {logger1 is logger2}\")"
   ]
  },
  {
   "cell_type": "markdown",
   "id": "9",
   "metadata": {},
   "source": [
    "### Handler\n",
    "* Handlers send the LogRecord to the appropriate destination, some built-in handlers are listed below, but you can also sub-class your own handlers. Each Logger can have multiple Handlers attached.\n",
    "    * StreamHandler: send messages to streams (file-like objects).\n",
    "    * FileHandler: send messages to disk files.\n",
    "    * RotatingFileHandler: send messages to disk files, with support for maximum log file sizes and log file rotation.\n",
    "    * TimedRotatingFileHandler: send messages to disk files, rotating the log file at certain timed intervals.\n",
    "    * SocketHandler: send messages to TCP/IP sockets.\n",
    "    * SMTPHandler: send messages to a designated email address.\n",
    "\n",
    "* Note that when instantiated, a handler is added to the global _handlerList."
   ]
  },
  {
   "cell_type": "code",
   "execution_count": 5,
   "id": "10",
   "metadata": {},
   "outputs": [
    {
     "data": {
      "text/html": [
       "<pre style=\"white-space:pre;overflow-x:auto;line-height:normal;font-family:Menlo,'DejaVu Sans Mono',consolas,'Courier New',monospace\"><span style=\"font-weight: bold\">[</span>\n",
       "    <span style=\"font-weight: bold\">&lt;</span><span style=\"color: #ff00ff; text-decoration-color: #ff00ff; font-weight: bold\">weakref</span><span style=\"color: #000000; text-decoration-color: #000000\"> at </span><span style=\"color: #008080; text-decoration-color: #008080; font-weight: bold\">0x000001D6A363D2B0</span><span style=\"color: #000000; text-decoration-color: #000000\">; to </span><span style=\"color: #008000; text-decoration-color: #008000\">'logging.StreamHandler'</span><span style=\"color: #000000; text-decoration-color: #000000\"> at </span><span style=\"color: #008080; text-decoration-color: #008080; font-weight: bold\">0x000001D6A3557B60</span><span style=\"color: #000000; text-decoration-color: #000000\">&gt;,</span>\n",
       "<span style=\"color: #000000; text-decoration-color: #000000\">    &lt;weakref at </span><span style=\"color: #008080; text-decoration-color: #008080; font-weight: bold\">0x000001D6A366DD50</span><span style=\"color: #000000; text-decoration-color: #000000\">; to </span><span style=\"color: #008000; text-decoration-color: #008000\">'logging.StreamHandler'</span><span style=\"color: #000000; text-decoration-color: #000000\"> at </span><span style=\"color: #008080; text-decoration-color: #008080; font-weight: bold\">0x000001D6A1913250</span><span style=\"color: #000000; text-decoration-color: #000000\">&gt;,</span>\n",
       "<span style=\"color: #000000; text-decoration-color: #000000\">    &lt;weakref at </span><span style=\"color: #008080; text-decoration-color: #008080; font-weight: bold\">0x000001D6A363DA80</span><span style=\"color: #000000; text-decoration-color: #000000\">; to </span><span style=\"color: #008000; text-decoration-color: #008000\">'logging.StreamHandler'</span><span style=\"color: #000000; text-decoration-color: #000000\"> at </span><span style=\"color: #008080; text-decoration-color: #008080; font-weight: bold\">0x000001D6A48FEC10</span><span style=\"color: #000000; text-decoration-color: #000000\">&gt;,</span>\n",
       "<span style=\"color: #000000; text-decoration-color: #000000\">    &lt;weakref at </span><span style=\"color: #008080; text-decoration-color: #008080; font-weight: bold\">0x000001D6A4B05530</span><span style=\"color: #000000; text-decoration-color: #000000\">; to </span><span style=\"color: #008000; text-decoration-color: #008000\">'logging.StreamHandler'</span><span style=\"color: #000000; text-decoration-color: #000000\"> at </span><span style=\"color: #008080; text-decoration-color: #008080; font-weight: bold\">0x000001D6A4AF0FC0</span><span style=\"font-weight: bold\">&gt;</span>\n",
       "<span style=\"font-weight: bold\">]</span>\n",
       "</pre>\n"
      ],
      "text/plain": [
       "\u001b[1m[\u001b[0m\n",
       "    \u001b[1m<\u001b[0m\u001b[1;95mweakref\u001b[0m\u001b[39m at \u001b[0m\u001b[1;36m0x000001D6A363D2B0\u001b[0m\u001b[39m; to \u001b[0m\u001b[32m'logging.StreamHandler'\u001b[0m\u001b[39m at \u001b[0m\u001b[1;36m0x000001D6A3557B60\u001b[0m\u001b[39m>,\u001b[0m\n",
       "\u001b[39m    <weakref at \u001b[0m\u001b[1;36m0x000001D6A366DD50\u001b[0m\u001b[39m; to \u001b[0m\u001b[32m'logging.StreamHandler'\u001b[0m\u001b[39m at \u001b[0m\u001b[1;36m0x000001D6A1913250\u001b[0m\u001b[39m>,\u001b[0m\n",
       "\u001b[39m    <weakref at \u001b[0m\u001b[1;36m0x000001D6A363DA80\u001b[0m\u001b[39m; to \u001b[0m\u001b[32m'logging.StreamHandler'\u001b[0m\u001b[39m at \u001b[0m\u001b[1;36m0x000001D6A48FEC10\u001b[0m\u001b[39m>,\u001b[0m\n",
       "\u001b[39m    <weakref at \u001b[0m\u001b[1;36m0x000001D6A4B05530\u001b[0m\u001b[39m; to \u001b[0m\u001b[32m'logging.StreamHandler'\u001b[0m\u001b[39m at \u001b[0m\u001b[1;36m0x000001D6A4AF0FC0\u001b[0m\u001b[1m>\u001b[0m\n",
       "\u001b[1m]\u001b[0m\n"
      ]
     },
     "metadata": {},
     "output_type": "display_data"
    },
    {
     "data": {
      "text/html": [
       "<pre style=\"white-space:pre;overflow-x:auto;line-height:normal;font-family:Menlo,'DejaVu Sans Mono',consolas,'Courier New',monospace\"><span style=\"font-weight: bold\">[&lt;</span><span style=\"color: #ff00ff; text-decoration-color: #ff00ff; font-weight: bold\">StreamHandler</span><span style=\"color: #000000; text-decoration-color: #000000\"> stderr </span><span style=\"color: #000000; text-decoration-color: #000000; font-weight: bold\">(</span><span style=\"color: #000000; text-decoration-color: #000000\">NOTSET</span><span style=\"color: #000000; text-decoration-color: #000000; font-weight: bold\">)</span><span style=\"font-weight: bold\">&gt;]</span>\n",
       "</pre>\n"
      ],
      "text/plain": [
       "\u001b[1m[\u001b[0m\u001b[1m<\u001b[0m\u001b[1;95mStreamHandler\u001b[0m\u001b[39m stderr \u001b[0m\u001b[1;39m(\u001b[0m\u001b[39mNOTSET\u001b[0m\u001b[1;39m)\u001b[0m\u001b[1m>\u001b[0m\u001b[1m]\u001b[0m\n"
      ]
     },
     "metadata": {},
     "output_type": "display_data"
    }
   ],
   "source": [
    "from rich import print as rprint\n",
    "stderr_handler = logging.StreamHandler(sys.stderr)\n",
    "logger1.addHandler(stderr_handler)\n",
    "rprint(logging._handlerList)\n",
    "rprint(logger1.handlers)\n"
   ]
  },
  {
   "cell_type": "markdown",
   "id": "11",
   "metadata": {},
   "source": [
    "### Filter\n",
    "* Filters are attached to Handlers and can be used to filter the LogRecord that are above the logging level for the logger. Multiple Filters can be attached to the same Handler. The record will only be emitted if none of the filters return a false value.\n",
    "    ```python\n",
    "        # Filters can also be a function that returns either a LogRecord or a boolean value. \n",
    "        #There is no strict need to subclass the base Filter.\n",
    "        stdout_handler = logging.StreamHandler(sys.stdout)\n",
    "        stdout_handler.addFilter(lambda x:x.levelno == logging.WARNING)\n",
    "    ```"
   ]
  },
  {
   "cell_type": "code",
   "execution_count": 6,
   "id": "12",
   "metadata": {},
   "outputs": [
    {
     "name": "stdout",
     "output_type": "stream",
     "text": [
      "INFO:root:This message will emit.\n"
     ]
    }
   ],
   "source": [
    "logging.basicConfig(stream=sys.stdout, level=logging.INFO, force=True) \n",
    "logger = logging.getLogger() # use the root logger for this example\n",
    "for h in logging.getLogger().handlers:\n",
    "    h.addFilter(lambda record: record.levelno != logging.WARNING) # prevents logging.WARNING level messages from being emitted.\n",
    "logger.warning(\"This message will not emit.\")\n",
    "logger.info(\"This message will emit.\")"
   ]
  },
  {
   "cell_type": "markdown",
   "id": "13",
   "metadata": {},
   "source": [
    "### Formatter\n",
    "* Formatters are used to format the message to the output and various attributes. The logging utility expects the logged object to be a string or have a \\_\\_str\\_\\_ method. A full list is available on the [documentation site](https://docs.python.org/3/library/logging.html#logrecord-attributes)\n",
    "\n",
    "* Some commonly used LogAttribute\n",
    "\n",
    "| levelname | format |\n",
    "| --- | ---|\n",
    "| asctime | \\%(asctime)s |\n",
    "| levelname | \\%(levelname)s |\n",
    "| message | \\%(message)s |\n",
    "| module | \\%(module)s |\n"
   ]
  },
  {
   "cell_type": "code",
   "execution_count": 7,
   "id": "14",
   "metadata": {},
   "outputs": [
    {
     "name": "stdout",
     "output_type": "stream",
     "text": [
      "{{DEBUG}} 2025-06-09: This message uses the specified format\n"
     ]
    }
   ],
   "source": [
    "handler = logging.StreamHandler(sys.stdout)\n",
    "formatter = logging.Formatter(fmt=\"{{%(levelname)s}} %(asctime)s: %(message)s\", datefmt=\"%Y-%m-%d\")\n",
    "handler.setFormatter(formatter)\n",
    "\n",
    "logging.basicConfig(level=logging.DEBUG, force=True, handlers=[handler]) \n",
    "logger.debug(\"This message uses the specified format\")\n"
   ]
  },
  {
   "cell_type": "markdown",
   "id": "15",
   "metadata": {},
   "source": [
    "### Thread-safety\n",
    "* Logging objects use the threading.RLock to ensure thread safety. Use the supplied API for attaching and detaching components.\n",
    "\n",
    "### Logging Flow\n",
    "* The official documentation provides [a flow chart](https://docs.python.org/3/howto/logging.html#logging-flow) to show the life of a logging call."
   ]
  },
  {
   "cell_type": "code",
   "execution_count": 8,
   "id": "16",
   "metadata": {},
   "outputs": [
    {
     "name": "stdout",
     "output_type": "stream",
     "text": [
      "DEBUG:root:This message will go to the console\n"
     ]
    }
   ],
   "source": [
    "from custom_loggers import SQLiteHandler\n",
    "\n",
    "sqlite_handler = SQLiteHandler(\"log.db\")\n",
    "sqlite_handler.setLevel(logging.INFO)\n",
    "sqlite_handler.addFilter(lambda x: x.levelno == logging.INFO)\n",
    "std_handler = logging.StreamHandler(sys.stdout)\n",
    "std_handler.setLevel(logging.DEBUG)\n",
    "std_handler.addFilter(lambda record: record.levelno == logging.DEBUG)\n",
    "\n",
    "logging.basicConfig(level=logging.DEBUG, force=True, handlers=(std_handler, sqlite_handler)) \n",
    "logger = logging.getLogger()\n",
    "\n",
    "logger.debug(\"This message will go to the console\")\n",
    "logger.info(\"This message will go to a sqlite3 db file\")\n"
   ]
  },
  {
   "cell_type": "markdown",
   "id": "17",
   "metadata": {},
   "source": [
    "An example set up for a logger that only outputs debug messages to the console, sends all info messages to a local sqlite database file."
   ]
  },
  {
   "cell_type": "markdown",
   "id": "18",
   "metadata": {},
   "source": [
    "## Using 3rd party tools\n",
    "### Rich\n",
    "The 3rd party richtext library provides a [richtext Handler](https://rich.readthedocs.io/en/stable/logging.html) with color and style support for logging."
   ]
  },
  {
   "cell_type": "code",
   "execution_count": 9,
   "id": "19",
   "metadata": {},
   "outputs": [
    {
     "data": {
      "text/html": [
       "<pre style=\"white-space:pre;overflow-x:auto;line-height:normal;font-family:Menlo,'DejaVu Sans Mono',consolas,'Courier New',monospace\"><span style=\"color: #7fbfbf; text-decoration-color: #7fbfbf\">[09:59:14] </span><span style=\"color: #000080; text-decoration-color: #000080\">INFO    </span> Add <span style=\"color: #008080; text-decoration-color: #008080; font-weight: bold\">rich text</span> support with the RichHandler from the <span style=\"color: #800000; text-decoration-color: #800000; font-weight: bold\">rich</span> package.               <a href=\"file://C:\\Users\\wwhuang\\AppData\\Local\\Temp\\ipykernel_28108\\2679340856.py\" target=\"_blank\"><span style=\"color: #7f7f7f; text-decoration-color: #7f7f7f\">2679340856.py</span></a><span style=\"color: #7f7f7f; text-decoration-color: #7f7f7f\">:</span><a href=\"file://C:\\Users\\wwhuang\\AppData\\Local\\Temp\\ipykernel_28108\\2679340856.py#6\" target=\"_blank\"><span style=\"color: #7f7f7f; text-decoration-color: #7f7f7f\">6</span></a>\n",
       "</pre>\n"
      ],
      "text/plain": [
       "\u001b[2;36m[09:59:14]\u001b[0m\u001b[2;36m \u001b[0m\u001b[34mINFO    \u001b[0m Add \u001b[1;36mrich text\u001b[0m support with the RichHandler from the \u001b[1;31mrich\u001b[0m package.               \u001b]8;id=220837;file://C:\\Users\\wwhuang\\AppData\\Local\\Temp\\ipykernel_28108\\2679340856.py\u001b\\\u001b[2m2679340856.py\u001b[0m\u001b]8;;\u001b\\\u001b[2m:\u001b[0m\u001b]8;id=920284;file://C:\\Users\\wwhuang\\AppData\\Local\\Temp\\ipykernel_28108\\2679340856.py#6\u001b\\\u001b[2m6\u001b[0m\u001b]8;;\u001b\\\n"
      ]
     },
     "metadata": {},
     "output_type": "display_data"
    }
   ],
   "source": [
    "from rich.logging import RichHandler\n",
    "from rich.text import Text\n",
    "logging.basicConfig(level=\"INFO\", force=True, format = \"%(message)s\", datefmt=\"[%X]\", handlers=[RichHandler()]\n",
    ")\n",
    "logger = logging.getLogger(\"rich\")\n",
    "logger.info(\"Add [bold cyan]rich text[/] support with the RichHandler from the [bold red]rich[/] package.\", extra={\"markup\": True})"
   ]
  },
  {
   "cell_type": "markdown",
   "id": "20",
   "metadata": {},
   "source": [
    "### Loguru\n",
    "[Loguru](https://loguru.readthedocs.io/en/stable/) is a 3rd party library with simple defaults that is compatible with the standard logging library."
   ]
  },
  {
   "cell_type": "code",
   "execution_count": 10,
   "id": "21",
   "metadata": {},
   "outputs": [
    {
     "name": "stderr",
     "output_type": "stream",
     "text": [
      "\u001b[32m2025-06-09 09:59:14.856\u001b[0m | \u001b[1mINFO    \u001b[0m | \u001b[36m__main__\u001b[0m:\u001b[36m<module>\u001b[0m:\u001b[36m2\u001b[0m - \u001b[1mLogging is easy with loguru\u001b[0m\n"
     ]
    }
   ],
   "source": [
    "from loguru import logger\n",
    "logger.info(\"Logging is easy with loguru\")\n"
   ]
  },
  {
   "cell_type": "markdown",
   "id": "22",
   "metadata": {},
   "source": [
    "## Using CLI with flags\n",
    "* An example is included with the included package.\n",
    "    * If the environment is installed with pixi:\n",
    "```bash\n",
    "pixi run cli_logger # does not show debug logs\n",
    "pixi run cli_logger --debug # shows debug logs\n",
    "```\n"
   ]
  },
  {
   "cell_type": "code",
   "execution_count": 11,
   "id": "23",
   "metadata": {},
   "outputs": [
    {
     "name": "stdout",
     "output_type": "stream",
     "text": [
      "[06/09/25 09:59:15] INFO     cli_logger 2025-06-09             cli_logger.py:41\n",
      "                             09:59:15,601: this is an info log                 \n",
      "                             record                                            \n",
      "[06/09/25 09:59:16] INFO     cli_logger 2025-06-09             cli_logger.py:41\n",
      "                             09:59:16,289: this is an info log                 \n",
      "                             record                                            \n",
      "                    DEBUG    cli_logger 2025-06-09             cli_logger.py:42\n",
      "                             09:59:16,307: this is a debug                     \n",
      "                             message                                           \n"
     ]
    }
   ],
   "source": [
    "%%bash \n",
    "pixi run cli_logger\n",
    "pixi run cli_logger --debug"
   ]
  }
 ],
 "metadata": {
  "kernelspec": {
   "display_name": "Python 3 (ipykernel)",
   "language": "python",
   "name": "python3"
  },
  "language_info": {
   "codemirror_mode": {
    "name": "ipython",
    "version": 3
   },
   "file_extension": ".py",
   "mimetype": "text/x-python",
   "name": "python",
   "nbconvert_exporter": "python",
   "pygments_lexer": "ipython3",
   "version": "3.13.3"
  }
 },
 "nbformat": 4,
 "nbformat_minor": 5
}
