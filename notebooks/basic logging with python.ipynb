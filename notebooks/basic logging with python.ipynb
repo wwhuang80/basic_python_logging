{
 "cells": [
  {
   "cell_type": "markdown",
   "id": "0",
   "metadata": {},
   "source": [
    "# Logging with the python standard library\n",
    "\n",
    "## Intro\n",
    "* The python standard library comes with a [logging packages](https://docs.python.org/3/library/logging.html).\n",
    "* This standard allows a way for 3rd party modules to share a common API for logging (more on that later).\n",
    "* Logging is a low-cost and simple way to communicate and record the state of your program."
   ]
  },
  {
   "cell_type": "markdown",
   "id": "1",
   "metadata": {},
   "source": [
    "## Using the basic config\n",
    "* The most common destination for logs is to write to the stdout stream or to a local file.\n",
    "* The logging library provides a function for configuring the top-level *root* logger for use in the main python program."
   ]
  },
  {
   "cell_type": "code",
   "execution_count": null,
   "id": "2",
   "metadata": {},
   "outputs": [],
   "source": [
    "import logging\n",
    "\n",
    "# Bind the root logger\n",
    "logger = logging.getLogger(__name__)\n",
    "\n",
    "# To set up the root logger to send the logs to a file\n",
    "logging.basicConfig(filename=\"basic_config_log.txt\", filemode=\"a\", level=logging.INFO) \n",
    "logger.info(\"Logging to a file...\") \n",
    "\n",
    "# To set up the root logger to send the logs to the console\n",
    "import sys\n",
    "logging.basicConfig(stream=sys.stdout, level=logging.INFO, force=True) # force param needed to reconfigure\n",
    "logger.info(\"Logging to the stdout stream\")\n",
    "\n",
    "\n"
   ]
  },
  {
   "cell_type": "markdown",
   "id": "3",
   "metadata": {},
   "source": [
    "## Logging Levels\n",
    "* [Logging levels](https://docs.python.org/3/library/logging.html#logging-levels) have a name and a numeric values to indicate the importance of the logged message.\n",
    "* You can create and set your own levels as needed.\n",
    "* When the level parameter is set on a logger, the logger will **ignore** all lower calls.\n",
    "* nwhen the level is NOTSET, the logger will defer to the higher level logger.\n",
    "| level | numeric value |\n",
    "| ----| ----|\n",
    "| logging.NOTSET | 0 |\n",
    "| logging.DEBUG | 10 |\n",
    "| logging.INFO | 20 |\n",
    "| logging.WARNING | 30 |\n",
    "| logging.ERROR| 40 |\n",
    "| logging.CRITICAL | 50 |"
   ]
  },
  {
   "cell_type": "markdown",
   "id": "4",
   "metadata": {},
   "source": [
    "Namespace"
   ]
  },
  {
   "cell_type": "code",
   "execution_count": null,
   "id": "5",
   "metadata": {},
   "outputs": [],
   "source": [
    "from custom_loggers import logger_namespace\n",
    "logger_namespace.create_logger_with_name()\n",
    "logger_namespace.create_logger_without_name()\n"
   ]
  },
  {
   "cell_type": "markdown",
   "id": "6",
   "metadata": {},
   "source": [
    "## The structure\n",
    "* The logging structure is made up of a few components: loggers, handlers, filters, and foramtters.\n",
    "\n",
    "### Logger\n",
    "* Loggers provide the interface to the application code and create the LogRecord objects consumed by the Handlers.\n",
    "    ```python\n",
    "        logger = logging.getLogger(__name__)\n",
    "        logger.info(\"Log text...\")\n",
    "    ```\n",
    "* Note that once instantiated, each logger is added to the global namespace. Calling a logger with a name will return the same logger globally. On the upside, loggers do not need to be passed between modules. On the downside, carelessing modifying the same logger may introduce unintended consequences.\n",
    "\n",
    "\n",
    "### Handler\n",
    "* Handlers send the LogRecords to the appropriate destination, some built-in handlers are listed below, but you can also sub-class your own handlers. Each Logger can have multiple Handlers attached.\n",
    "    * StreamHandler: send messages to streams (file-like objects).\n",
    "    * FileHandler: send messages to disk files.\n",
    "    * RotatingFileHandler: send messages to disk files, with support for maximum log file sizes and log file rotation.\n",
    "    * TimedRotatingFileHandler: send messages to disk files, rotating the log file at certain timed intervals.\n",
    "    * SocketHandler: send messages to TCP/IP sockets.\n",
    "    * SMTPHandler: send messages to a designated email address.\n",
    "\n",
    "* Note that when instantiated, a handler is added to the global _handlerList.\n",
    "\n",
    "### Filter\n",
    "* Filters are attached to Handlers anc can be used to filter the LogRecords that are above the logging level for the logger. Multiple Filters can be attached to the same Handler. The record will only be emitted if none of the filters return a false value.\n",
    "    ```python\n",
    "        # Filters can also be a function that returns either a LogRecord or a boolean value. \n",
    "        #There is no strict need to subclass the base Filter.\n",
    "        stdout_handler = logging.StreamHandler(sys.stdout)\n",
    "        stdout_handler.addFilter(lambda x:x.levelname == logging.WARN)\n",
    "    ```\n",
    "    \n",
    "### Formatter\n",
    "* Formatters are used to format the message to the output and various attributes. The logging util expects the logged object to be a string or have a \\_\\_str\\_\\_ method.\n",
    "    * Some commonly used LogAttribute\n",
    "?????\n",
    "\n",
    "### Thread-safety\n",
    "* Logging objects use mutex locks to ensure thread safety. Use the supplied API for attaching and detaching components.\n",
    "\n",
    "### Logging Flow\n",
    "* The official documentation provides [a flow chart](https://docs.python.org/3/howto/logging.html#logging-flow) to show the life of a logging call."
   ]
  },
  {
   "cell_type": "markdown",
   "id": "7",
   "metadata": {},
   "source": [
    "An example set up for a logger that only outputs debug messages to the console, sends all info messages to a local sqlite database file."
   ]
  },
  {
   "cell_type": "markdown",
   "id": "8",
   "metadata": {},
   "source": [
    "## Using 3rd party tools\n",
    "### Rich\n",
    "The 3rd party richtext library provides a [richtext Handler](https://rich.readthedocs.io/en/stable/logging.html) with color and style support for logging."
   ]
  },
  {
   "cell_type": "code",
   "execution_count": null,
   "id": "9",
   "metadata": {},
   "outputs": [],
   "source": [
    "from rich.logging import RichHandler\n",
    "logger = logging.getLogger(\"rich\")\n",
    "logger.addHandler(RichHandler())\n",
    "logger.info(\"Add rich text support with rich\")"
   ]
  },
  {
   "cell_type": "markdown",
   "id": "10",
   "metadata": {},
   "source": [
    "### Loguru\n",
    "[Loguru](https://loguru.readthedocs.io/en/stable/) is a 3rd party library with simple defaults that is compatible with the stadnard logging library."
   ]
  },
  {
   "cell_type": "code",
   "execution_count": null,
   "id": "11",
   "metadata": {},
   "outputs": [],
   "source": [
    "from loguru import logger\n",
    "loguru_handler = logger.add(sys.stdout, format=\"{time} {level}: {message}\", level=\"INFO\")\n",
    "logger.info(\"Logging is easy with loguru\")\n",
    "logger.remove(loguru_handler)"
   ]
  },
  {
   "cell_type": "markdown",
   "id": "12",
   "metadata": {},
   "source": [
    "A CLI example with a flag that enable output of debug logs on demand."
   ]
  }
 ],
 "metadata": {
  "kernelspec": {
   "display_name": "Python 3 (ipykernel)",
   "language": "python",
   "name": "python3"
  },
  "language_info": {
   "codemirror_mode": {
    "name": "ipython",
    "version": 3
   },
   "file_extension": ".py",
   "mimetype": "text/x-python",
   "name": "python",
   "nbconvert_exporter": "python",
   "pygments_lexer": "ipython3",
   "version": "3.13.3"
  }
 },
 "nbformat": 4,
 "nbformat_minor": 5
}
